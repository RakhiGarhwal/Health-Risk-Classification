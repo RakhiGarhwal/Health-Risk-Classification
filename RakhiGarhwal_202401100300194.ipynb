{
  "nbformat": 4,
  "nbformat_minor": 0,
  "metadata": {
    "colab": {
      "provenance": []
    },
    "kernelspec": {
      "name": "python3",
      "display_name": "Python 3"
    },
    "language_info": {
      "name": "python"
    }
  },
  "cells": [
    {
      "cell_type": "code",
      "execution_count": 2,
      "metadata": {
        "colab": {
          "base_uri": "https://localhost:8080/"
        },
        "id": "xmewzlBYy05E",
        "outputId": "1a4f289f-2409-49aa-a549-0f199bdf0ff0"
      },
      "outputs": [
        {
          "output_type": "stream",
          "name": "stdout",
          "text": [
            "Sample Data:\n",
            "         bmi  exercise_hours  junk_food_freq risk_level\n",
            "0  28.730279              13               1       high\n",
            "1  31.301442              12               4     medium\n",
            "2  32.549043               9               0     medium\n",
            "3  30.463670               2               1     medium\n",
            "4  28.431755               2               1        low\n",
            "\n",
            "Missing values:\n",
            " bmi               0\n",
            "exercise_hours    0\n",
            "junk_food_freq    0\n",
            "risk_level        0\n",
            "dtype: int64\n",
            "\n",
            "Classification Report:\n",
            "              precision    recall  f1-score   support\n",
            "\n",
            "        high       0.20      0.20      0.20         5\n",
            "         low       0.14      0.20      0.17         5\n",
            "      medium       0.62      0.50      0.56        10\n",
            "\n",
            "    accuracy                           0.35        20\n",
            "   macro avg       0.32      0.30      0.31        20\n",
            "weighted avg       0.40      0.35      0.37        20\n",
            "\n",
            "Accuracy Score: 0.35\n",
            "\n",
            "Predicted Risk Level for new input: medium\n"
          ]
        }
      ],
      "source": [
        "# Import necessary libraries\n",
        "import pandas as pd\n",
        "from sklearn.model_selection import train_test_split\n",
        "from sklearn.ensemble import RandomForestClassifier\n",
        "from sklearn.metrics import classification_report, accuracy_score\n",
        "from sklearn.preprocessing import LabelEncoder\n",
        "\n",
        "# Step 1: Load the dataset\n",
        "df = pd.read_csv(\"/health_risk.csv\")  # Replace with your actual CSV file name\n",
        "\n",
        "# Step 2: Display the first few rows\n",
        "print(\"Sample Data:\")\n",
        "print(df.head())\n",
        "\n",
        "# Step 3: Check for missing values (optional)\n",
        "print(\"\\nMissing values:\\n\", df.isnull().sum())\n",
        "df = df.dropna()  # Drop any rows with missing values (or fill if needed)\n",
        "\n",
        "# Step 4: Encode the target column (risk_level)\n",
        "le_risk = LabelEncoder()\n",
        "df['risk_level_encoded'] = le_risk.fit_transform(df['risk_level'])\n",
        "\n",
        "# Step 5: Define features (X) and target (y)\n",
        "X = df[['bmi', 'exercise_hours', 'junk_food_freq']]\n",
        "y = df['risk_level_encoded']\n",
        "\n",
        "# Step 6: Split the data into training and test sets\n",
        "X_train, X_test, y_train, y_test = train_test_split(\n",
        "    X, y, test_size=0.2, random_state=42\n",
        ")\n",
        "\n",
        "# Step 7: Train the model using Random Forest\n",
        "model = RandomForestClassifier(random_state=42)\n",
        "model.fit(X_train, y_train)\n",
        "\n",
        "# Step 8: Make predictions\n",
        "y_pred = model.predict(X_test)\n",
        "\n",
        "# Step 9: Evaluate the model\n",
        "print(\"\\nClassification Report:\")\n",
        "print(classification_report(y_test, y_pred, target_names=le_risk.classes_))\n",
        "\n",
        "print(\"Accuracy Score:\", accuracy_score(y_test, y_pred))\n",
        "\n",
        "# Step 10 (Optional): Predict risk for a new person\n",
        "# Example: A person with BMI=29, exercises 5 hours/week, eats junk 2 times/week\n",
        "new_input = pd.DataFrame({\n",
        "    'bmi': [29],\n",
        "    'exercise_hours': [5],\n",
        "    'junk_food_freq': [2]\n",
        "})\n",
        "\n",
        "predicted_risk = model.predict(new_input)\n",
        "print(\"\\nPredicted Risk Level for new input:\", le_risk.inverse_transform(predicted_risk)[0])\n"
      ]
    }
  ]
}